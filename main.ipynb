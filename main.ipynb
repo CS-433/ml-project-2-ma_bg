{
 "cells": [
  {
   "cell_type": "code",
   "execution_count": 5,
   "metadata": {},
   "outputs": [
    {
     "name": "stdout",
     "output_type": "stream",
     "text": [
      "The autoreload extension is already loaded. To reload it, use:\n",
      "  %reload_ext autoreload\n"
     ]
    }
   ],
   "source": [
    "# Import other libraries\n",
    "from IPython.display import display\n",
    "import numpy as np\n",
    "import pandas as pd\n",
    "import pyarrow\n",
    "import os\n",
    "\n",
    "# Import sklearn tools\n",
    "from sklearn.model_selection import *\n",
    "from sklearn.metrics import *\n",
    "from sklearn import *\n",
    "from sklearn.pipeline import *\n",
    "from sklearn.preprocessing import *\n",
    "from sklearn.ensemble import *\n",
    "from sklearn.svm import *\n",
    "from sklearn.preprocessing import * \n",
    "\n",
    "# Import files\n",
    "from helpers import *\n",
    "from cross_validation import *\n",
    "from models import *\n",
    "from dataloader import *\n",
    "from dataprocess import *\n",
    "from plot import *\n",
    "\n",
    "# Autoreload\n",
    "%load_ext autoreload\n",
    "%autoreload 2"
   ]
  },
  {
   "cell_type": "markdown",
   "metadata": {},
   "source": [
    "# Data loading and pre-processing\n",
    "\n",
    "***"
   ]
  },
  {
   "cell_type": "code",
   "execution_count": 6,
   "metadata": {},
   "outputs": [
    {
     "name": "stderr",
     "output_type": "stream",
     "text": [
      "Downloading...\n",
      "From: https://drive.google.com/uc?id=1amwSErcW31Atos7JBW8BS4PwFu7qiT8c\n",
      "To: /Users/gaspardvilla/Documents/ml-project-2-ma_bg/Data/hydro_trainingset/hydro_trainingset_cam1.pkl\n",
      "100%|██████████| 65.7k/65.7k [00:00<00:00, 17.3MB/s]\n",
      "Downloading...\n",
      "From: https://drive.google.com/uc?id=1hyeTsXppiktAZyNYc83xs2OVW9GODVLf\n",
      "To: /Users/gaspardvilla/Documents/ml-project-2-ma_bg/Data/hydro_trainingset/hydro_trainingset_cam2.pkl\n",
      "100%|██████████| 55.2k/55.2k [00:00<00:00, 10.4MB/s]\n"
     ]
    }
   ],
   "source": [
    "classifier = 'hydro'\n",
    "data_set, classes = load_data_sets(classifier = classifier)"
   ]
  },
  {
   "cell_type": "code",
   "execution_count": 7,
   "metadata": {},
   "outputs": [],
   "source": [
    "X, y = processing(data_set, classes, classifier)"
   ]
  },
  {
   "cell_type": "code",
   "execution_count": 8,
   "metadata": {},
   "outputs": [
    {
     "data": {
      "text/plain": [
       "(2011, 68)"
      ]
     },
     "metadata": {},
     "output_type": "display_data"
    }
   ],
   "source": [
    "display(X.shape)"
   ]
  },
  {
   "cell_type": "code",
   "execution_count": 9,
   "metadata": {},
   "outputs": [],
   "source": [
    "# Get a train and test set for modelization\n",
    "k_fold = 5\n",
    "seed = 0\n",
    "X_train, y_train, X_test, y_test = split_data(X, y, kfold = k_fold, seed = seed)"
   ]
  },
  {
   "cell_type": "code",
   "execution_count": 10,
   "metadata": {},
   "outputs": [
    {
     "name": "stdout",
     "output_type": "stream",
     "text": [
      "MESSAGE : param is the number of folds for cross validation (should be an int)\n"
     ]
    },
    {
     "name": "stderr",
     "output_type": "stream",
     "text": [
      "/Users/gaspardvilla/opt/anaconda3/lib/python3.8/site-packages/sklearn/linear_model/_coordinate_descent.py:633: ConvergenceWarning: Objective did not converge. You might want to increase the number of iterations. Duality gap: 0.24418590260222572, tolerance: 0.23124953343701402\n",
      "  model = cd_fast.enet_coordinate_descent_gram(\n",
      "/Users/gaspardvilla/opt/anaconda3/lib/python3.8/site-packages/sklearn/linear_model/_coordinate_descent.py:633: ConvergenceWarning: Objective did not converge. You might want to increase the number of iterations. Duality gap: 1.2741233806652872, tolerance: 0.23124953343701402\n",
      "  model = cd_fast.enet_coordinate_descent_gram(\n",
      "/Users/gaspardvilla/opt/anaconda3/lib/python3.8/site-packages/sklearn/linear_model/_coordinate_descent.py:633: ConvergenceWarning: Objective did not converge. You might want to increase the number of iterations. Duality gap: 3.347874513898205, tolerance: 0.23124953343701402\n",
      "  model = cd_fast.enet_coordinate_descent_gram(\n",
      "/Users/gaspardvilla/opt/anaconda3/lib/python3.8/site-packages/sklearn/linear_model/_coordinate_descent.py:633: ConvergenceWarning: Objective did not converge. You might want to increase the number of iterations. Duality gap: 3.8522566142848973, tolerance: 0.23124953343701402\n",
      "  model = cd_fast.enet_coordinate_descent_gram(\n",
      "/Users/gaspardvilla/opt/anaconda3/lib/python3.8/site-packages/sklearn/linear_model/_coordinate_descent.py:633: ConvergenceWarning: Objective did not converge. You might want to increase the number of iterations. Duality gap: 2.900315843023577, tolerance: 0.23124953343701402\n",
      "  model = cd_fast.enet_coordinate_descent_gram(\n",
      "/Users/gaspardvilla/opt/anaconda3/lib/python3.8/site-packages/sklearn/linear_model/_coordinate_descent.py:633: ConvergenceWarning: Objective did not converge. You might want to increase the number of iterations. Duality gap: 2.19690517369645, tolerance: 0.23124953343701402\n",
      "  model = cd_fast.enet_coordinate_descent_gram(\n",
      "/Users/gaspardvilla/opt/anaconda3/lib/python3.8/site-packages/sklearn/linear_model/_coordinate_descent.py:633: ConvergenceWarning: Objective did not converge. You might want to increase the number of iterations. Duality gap: 1.85483252475467, tolerance: 0.23124953343701402\n",
      "  model = cd_fast.enet_coordinate_descent_gram(\n",
      "/Users/gaspardvilla/opt/anaconda3/lib/python3.8/site-packages/sklearn/linear_model/_coordinate_descent.py:633: ConvergenceWarning: Objective did not converge. You might want to increase the number of iterations. Duality gap: 1.809338474087781, tolerance: 0.23124953343701402\n",
      "  model = cd_fast.enet_coordinate_descent_gram(\n",
      "/Users/gaspardvilla/opt/anaconda3/lib/python3.8/site-packages/sklearn/linear_model/_coordinate_descent.py:633: ConvergenceWarning: Objective did not converge. You might want to increase the number of iterations. Duality gap: 1.914833496230699, tolerance: 0.23124953343701402\n",
      "  model = cd_fast.enet_coordinate_descent_gram(\n",
      "/Users/gaspardvilla/opt/anaconda3/lib/python3.8/site-packages/sklearn/linear_model/_coordinate_descent.py:633: ConvergenceWarning: Objective did not converge. You might want to increase the number of iterations. Duality gap: 2.2612140080686913, tolerance: 0.23124953343701402\n",
      "  model = cd_fast.enet_coordinate_descent_gram(\n",
      "/Users/gaspardvilla/opt/anaconda3/lib/python3.8/site-packages/sklearn/linear_model/_coordinate_descent.py:633: ConvergenceWarning: Objective did not converge. You might want to increase the number of iterations. Duality gap: 2.835062701661286, tolerance: 0.23124953343701402\n",
      "  model = cd_fast.enet_coordinate_descent_gram(\n",
      "/Users/gaspardvilla/opt/anaconda3/lib/python3.8/site-packages/sklearn/linear_model/_coordinate_descent.py:633: ConvergenceWarning: Objective did not converge. You might want to increase the number of iterations. Duality gap: 3.3270416461598415, tolerance: 0.23124953343701402\n",
      "  model = cd_fast.enet_coordinate_descent_gram(\n",
      "/Users/gaspardvilla/opt/anaconda3/lib/python3.8/site-packages/sklearn/linear_model/_coordinate_descent.py:633: ConvergenceWarning: Objective did not converge. You might want to increase the number of iterations. Duality gap: 3.8793140452528405, tolerance: 0.23124953343701402\n",
      "  model = cd_fast.enet_coordinate_descent_gram(\n",
      "/Users/gaspardvilla/opt/anaconda3/lib/python3.8/site-packages/sklearn/linear_model/_coordinate_descent.py:633: ConvergenceWarning: Objective did not converge. You might want to increase the number of iterations. Duality gap: 3.9035094295577437, tolerance: 0.23124953343701402\n",
      "  model = cd_fast.enet_coordinate_descent_gram(\n",
      "/Users/gaspardvilla/opt/anaconda3/lib/python3.8/site-packages/sklearn/linear_model/_coordinate_descent.py:633: ConvergenceWarning: Objective did not converge. You might want to increase the number of iterations. Duality gap: 3.297691515865381, tolerance: 0.23124953343701402\n",
      "  model = cd_fast.enet_coordinate_descent_gram(\n",
      "/Users/gaspardvilla/opt/anaconda3/lib/python3.8/site-packages/sklearn/linear_model/_coordinate_descent.py:633: ConvergenceWarning: Objective did not converge. You might want to increase the number of iterations. Duality gap: 3.050034147695328, tolerance: 0.23124953343701402\n",
      "  model = cd_fast.enet_coordinate_descent_gram(\n",
      "/Users/gaspardvilla/opt/anaconda3/lib/python3.8/site-packages/sklearn/linear_model/_coordinate_descent.py:633: ConvergenceWarning: Objective did not converge. You might want to increase the number of iterations. Duality gap: 0.29959280769139696, tolerance: 0.2391082426127529\n",
      "  model = cd_fast.enet_coordinate_descent_gram(\n",
      "/Users/gaspardvilla/opt/anaconda3/lib/python3.8/site-packages/sklearn/linear_model/_coordinate_descent.py:633: ConvergenceWarning: Objective did not converge. You might want to increase the number of iterations. Duality gap: 0.29127184268088513, tolerance: 0.2391082426127529\n",
      "  model = cd_fast.enet_coordinate_descent_gram(\n",
      "/Users/gaspardvilla/opt/anaconda3/lib/python3.8/site-packages/sklearn/linear_model/_coordinate_descent.py:633: ConvergenceWarning: Objective did not converge. You might want to increase the number of iterations. Duality gap: 0.29528375994391354, tolerance: 0.2391082426127529\n",
      "  model = cd_fast.enet_coordinate_descent_gram(\n",
      "/Users/gaspardvilla/opt/anaconda3/lib/python3.8/site-packages/sklearn/linear_model/_coordinate_descent.py:633: ConvergenceWarning: Objective did not converge. You might want to increase the number of iterations. Duality gap: 0.3060689986871239, tolerance: 0.2391082426127529\n",
      "  model = cd_fast.enet_coordinate_descent_gram(\n",
      "/Users/gaspardvilla/opt/anaconda3/lib/python3.8/site-packages/sklearn/linear_model/_coordinate_descent.py:633: ConvergenceWarning: Objective did not converge. You might want to increase the number of iterations. Duality gap: 1.1170160743092765, tolerance: 0.2391082426127529\n",
      "  model = cd_fast.enet_coordinate_descent_gram(\n",
      "/Users/gaspardvilla/opt/anaconda3/lib/python3.8/site-packages/sklearn/linear_model/_coordinate_descent.py:633: ConvergenceWarning: Objective did not converge. You might want to increase the number of iterations. Duality gap: 1.3700005148966738, tolerance: 0.2391082426127529\n",
      "  model = cd_fast.enet_coordinate_descent_gram(\n",
      "/Users/gaspardvilla/opt/anaconda3/lib/python3.8/site-packages/sklearn/linear_model/_coordinate_descent.py:633: ConvergenceWarning: Objective did not converge. You might want to increase the number of iterations. Duality gap: 1.2258961109580468, tolerance: 0.2391082426127529\n",
      "  model = cd_fast.enet_coordinate_descent_gram(\n",
      "/Users/gaspardvilla/opt/anaconda3/lib/python3.8/site-packages/sklearn/linear_model/_coordinate_descent.py:633: ConvergenceWarning: Objective did not converge. You might want to increase the number of iterations. Duality gap: 2.3566244983887827, tolerance: 0.2391082426127529\n",
      "  model = cd_fast.enet_coordinate_descent_gram(\n",
      "/Users/gaspardvilla/opt/anaconda3/lib/python3.8/site-packages/sklearn/linear_model/_coordinate_descent.py:633: ConvergenceWarning: Objective did not converge. You might want to increase the number of iterations. Duality gap: 3.4180524224843793, tolerance: 0.2391082426127529\n",
      "  model = cd_fast.enet_coordinate_descent_gram(\n",
      "/Users/gaspardvilla/opt/anaconda3/lib/python3.8/site-packages/sklearn/linear_model/_coordinate_descent.py:633: ConvergenceWarning: Objective did not converge. You might want to increase the number of iterations. Duality gap: 3.5368680947054827, tolerance: 0.2391082426127529\n",
      "  model = cd_fast.enet_coordinate_descent_gram(\n",
      "/Users/gaspardvilla/opt/anaconda3/lib/python3.8/site-packages/sklearn/linear_model/_coordinate_descent.py:633: ConvergenceWarning: Objective did not converge. You might want to increase the number of iterations. Duality gap: 3.113892945914813, tolerance: 0.2391082426127529\n",
      "  model = cd_fast.enet_coordinate_descent_gram(\n",
      "/Users/gaspardvilla/opt/anaconda3/lib/python3.8/site-packages/sklearn/linear_model/_coordinate_descent.py:633: ConvergenceWarning: Objective did not converge. You might want to increase the number of iterations. Duality gap: 2.69053822254466, tolerance: 0.2391082426127529\n",
      "  model = cd_fast.enet_coordinate_descent_gram(\n",
      "/Users/gaspardvilla/opt/anaconda3/lib/python3.8/site-packages/sklearn/linear_model/_coordinate_descent.py:633: ConvergenceWarning: Objective did not converge. You might want to increase the number of iterations. Duality gap: 2.7260650144041847, tolerance: 0.2391082426127529\n",
      "  model = cd_fast.enet_coordinate_descent_gram(\n",
      "/Users/gaspardvilla/opt/anaconda3/lib/python3.8/site-packages/sklearn/linear_model/_coordinate_descent.py:633: ConvergenceWarning: Objective did not converge. You might want to increase the number of iterations. Duality gap: 2.9078047042485196, tolerance: 0.2391082426127529\n",
      "  model = cd_fast.enet_coordinate_descent_gram(\n",
      "/Users/gaspardvilla/opt/anaconda3/lib/python3.8/site-packages/sklearn/linear_model/_coordinate_descent.py:633: ConvergenceWarning: Objective did not converge. You might want to increase the number of iterations. Duality gap: 3.897515368261338, tolerance: 0.2391082426127529\n",
      "  model = cd_fast.enet_coordinate_descent_gram(\n",
      "/Users/gaspardvilla/opt/anaconda3/lib/python3.8/site-packages/sklearn/linear_model/_coordinate_descent.py:633: ConvergenceWarning: Objective did not converge. You might want to increase the number of iterations. Duality gap: 4.473119903591623, tolerance: 0.2391082426127529\n",
      "  model = cd_fast.enet_coordinate_descent_gram(\n",
      "/Users/gaspardvilla/opt/anaconda3/lib/python3.8/site-packages/sklearn/linear_model/_coordinate_descent.py:633: ConvergenceWarning: Objective did not converge. You might want to increase the number of iterations. Duality gap: 3.920226907928054, tolerance: 0.2391082426127529\n",
      "  model = cd_fast.enet_coordinate_descent_gram(\n",
      "/Users/gaspardvilla/opt/anaconda3/lib/python3.8/site-packages/sklearn/linear_model/_coordinate_descent.py:633: ConvergenceWarning: Objective did not converge. You might want to increase the number of iterations. Duality gap: 2.971097739888137, tolerance: 0.2391082426127529\n",
      "  model = cd_fast.enet_coordinate_descent_gram(\n",
      "/Users/gaspardvilla/opt/anaconda3/lib/python3.8/site-packages/sklearn/linear_model/_coordinate_descent.py:633: ConvergenceWarning: Objective did not converge. You might want to increase the number of iterations. Duality gap: 2.5484341925734952, tolerance: 0.2391082426127529\n",
      "  model = cd_fast.enet_coordinate_descent_gram(\n",
      "/Users/gaspardvilla/opt/anaconda3/lib/python3.8/site-packages/sklearn/linear_model/_coordinate_descent.py:633: ConvergenceWarning: Objective did not converge. You might want to increase the number of iterations. Duality gap: 2.531756712105107, tolerance: 0.2391082426127529\n",
      "  model = cd_fast.enet_coordinate_descent_gram(\n",
      "/Users/gaspardvilla/opt/anaconda3/lib/python3.8/site-packages/sklearn/linear_model/_coordinate_descent.py:633: ConvergenceWarning: Objective did not converge. You might want to increase the number of iterations. Duality gap: 0.2017243492016405, tolerance: 0.1952031881804044\n",
      "  model = cd_fast.enet_coordinate_descent_gram(\n",
      "/Users/gaspardvilla/opt/anaconda3/lib/python3.8/site-packages/sklearn/linear_model/_coordinate_descent.py:633: ConvergenceWarning: Objective did not converge. You might want to increase the number of iterations. Duality gap: 0.2088755289630626, tolerance: 0.1952031881804044\n",
      "  model = cd_fast.enet_coordinate_descent_gram(\n",
      "/Users/gaspardvilla/opt/anaconda3/lib/python3.8/site-packages/sklearn/linear_model/_coordinate_descent.py:633: ConvergenceWarning: Objective did not converge. You might want to increase the number of iterations. Duality gap: 0.20084935646991653, tolerance: 0.1952031881804044\n",
      "  model = cd_fast.enet_coordinate_descent_gram(\n",
      "/Users/gaspardvilla/opt/anaconda3/lib/python3.8/site-packages/sklearn/linear_model/_coordinate_descent.py:633: ConvergenceWarning: Objective did not converge. You might want to increase the number of iterations. Duality gap: 0.20469011917475655, tolerance: 0.1952031881804044\n",
      "  model = cd_fast.enet_coordinate_descent_gram(\n",
      "/Users/gaspardvilla/opt/anaconda3/lib/python3.8/site-packages/sklearn/linear_model/_coordinate_descent.py:633: ConvergenceWarning: Objective did not converge. You might want to increase the number of iterations. Duality gap: 0.22762362917580958, tolerance: 0.1952031881804044\n",
      "  model = cd_fast.enet_coordinate_descent_gram(\n",
      "/Users/gaspardvilla/opt/anaconda3/lib/python3.8/site-packages/sklearn/linear_model/_coordinate_descent.py:633: ConvergenceWarning: Objective did not converge. You might want to increase the number of iterations. Duality gap: 0.2557328139250785, tolerance: 0.1952031881804044\n",
      "  model = cd_fast.enet_coordinate_descent_gram(\n",
      "/Users/gaspardvilla/opt/anaconda3/lib/python3.8/site-packages/sklearn/linear_model/_coordinate_descent.py:633: ConvergenceWarning: Objective did not converge. You might want to increase the number of iterations. Duality gap: 0.29762782009811417, tolerance: 0.1952031881804044\n",
      "  model = cd_fast.enet_coordinate_descent_gram(\n",
      "/Users/gaspardvilla/opt/anaconda3/lib/python3.8/site-packages/sklearn/linear_model/_coordinate_descent.py:633: ConvergenceWarning: Objective did not converge. You might want to increase the number of iterations. Duality gap: 0.2964702216556816, tolerance: 0.1952031881804044\n",
      "  model = cd_fast.enet_coordinate_descent_gram(\n",
      "/Users/gaspardvilla/opt/anaconda3/lib/python3.8/site-packages/sklearn/linear_model/_coordinate_descent.py:633: ConvergenceWarning: Objective did not converge. You might want to increase the number of iterations. Duality gap: 0.8916844567111184, tolerance: 0.1952031881804044\n",
      "  model = cd_fast.enet_coordinate_descent_gram(\n",
      "/Users/gaspardvilla/opt/anaconda3/lib/python3.8/site-packages/sklearn/linear_model/_coordinate_descent.py:633: ConvergenceWarning: Objective did not converge. You might want to increase the number of iterations. Duality gap: 1.3804015287214497, tolerance: 0.1952031881804044\n",
      "  model = cd_fast.enet_coordinate_descent_gram(\n",
      "/Users/gaspardvilla/opt/anaconda3/lib/python3.8/site-packages/sklearn/linear_model/_coordinate_descent.py:633: ConvergenceWarning: Objective did not converge. You might want to increase the number of iterations. Duality gap: 0.43766225553690674, tolerance: 0.1952031881804044\n",
      "  model = cd_fast.enet_coordinate_descent_gram(\n",
      "/Users/gaspardvilla/opt/anaconda3/lib/python3.8/site-packages/sklearn/linear_model/_coordinate_descent.py:633: ConvergenceWarning: Objective did not converge. You might want to increase the number of iterations. Duality gap: 1.2191570420811786, tolerance: 0.1952031881804044\n",
      "  model = cd_fast.enet_coordinate_descent_gram(\n",
      "/Users/gaspardvilla/opt/anaconda3/lib/python3.8/site-packages/sklearn/linear_model/_coordinate_descent.py:633: ConvergenceWarning: Objective did not converge. You might want to increase the number of iterations. Duality gap: 2.388654109898937, tolerance: 0.1952031881804044\n",
      "  model = cd_fast.enet_coordinate_descent_gram(\n",
      "/Users/gaspardvilla/opt/anaconda3/lib/python3.8/site-packages/sklearn/linear_model/_coordinate_descent.py:633: ConvergenceWarning: Objective did not converge. You might want to increase the number of iterations. Duality gap: 3.1944208467175486, tolerance: 0.1952031881804044\n",
      "  model = cd_fast.enet_coordinate_descent_gram(\n",
      "/Users/gaspardvilla/opt/anaconda3/lib/python3.8/site-packages/sklearn/linear_model/_coordinate_descent.py:633: ConvergenceWarning: Objective did not converge. You might want to increase the number of iterations. Duality gap: 3.211969725697486, tolerance: 0.1952031881804044\n",
      "  model = cd_fast.enet_coordinate_descent_gram(\n",
      "/Users/gaspardvilla/opt/anaconda3/lib/python3.8/site-packages/sklearn/linear_model/_coordinate_descent.py:633: ConvergenceWarning: Objective did not converge. You might want to increase the number of iterations. Duality gap: 5.111113831740624, tolerance: 0.1952031881804044\n",
      "  model = cd_fast.enet_coordinate_descent_gram(\n",
      "/Users/gaspardvilla/opt/anaconda3/lib/python3.8/site-packages/sklearn/linear_model/_coordinate_descent.py:633: ConvergenceWarning: Objective did not converge. You might want to increase the number of iterations. Duality gap: 4.894440524664333, tolerance: 0.1952031881804044\n",
      "  model = cd_fast.enet_coordinate_descent_gram(\n",
      "/Users/gaspardvilla/opt/anaconda3/lib/python3.8/site-packages/sklearn/linear_model/_coordinate_descent.py:633: ConvergenceWarning: Objective did not converge. You might want to increase the number of iterations. Duality gap: 6.4093045109744935, tolerance: 0.1952031881804044\n",
      "  model = cd_fast.enet_coordinate_descent_gram(\n",
      "/Users/gaspardvilla/opt/anaconda3/lib/python3.8/site-packages/sklearn/linear_model/_coordinate_descent.py:633: ConvergenceWarning: Objective did not converge. You might want to increase the number of iterations. Duality gap: 8.377889978636972, tolerance: 0.1952031881804044\n",
      "  model = cd_fast.enet_coordinate_descent_gram(\n",
      "/Users/gaspardvilla/opt/anaconda3/lib/python3.8/site-packages/sklearn/linear_model/_coordinate_descent.py:633: ConvergenceWarning: Objective did not converge. You might want to increase the number of iterations. Duality gap: 0.2674737935213898, tolerance: 0.2393972027972027\n",
      "  model = cd_fast.enet_coordinate_descent_gram(\n",
      "/Users/gaspardvilla/opt/anaconda3/lib/python3.8/site-packages/sklearn/linear_model/_coordinate_descent.py:633: ConvergenceWarning: Objective did not converge. You might want to increase the number of iterations. Duality gap: 0.6417343457505922, tolerance: 0.2393972027972027\n",
      "  model = cd_fast.enet_coordinate_descent_gram(\n",
      "/Users/gaspardvilla/opt/anaconda3/lib/python3.8/site-packages/sklearn/linear_model/_coordinate_descent.py:633: ConvergenceWarning: Objective did not converge. You might want to increase the number of iterations. Duality gap: 0.45322811430082766, tolerance: 0.2393972027972027\n",
      "  model = cd_fast.enet_coordinate_descent_gram(\n",
      "/Users/gaspardvilla/opt/anaconda3/lib/python3.8/site-packages/sklearn/linear_model/_coordinate_descent.py:633: ConvergenceWarning: Objective did not converge. You might want to increase the number of iterations. Duality gap: 1.3065153182394624, tolerance: 0.2393972027972027\n",
      "  model = cd_fast.enet_coordinate_descent_gram(\n",
      "/Users/gaspardvilla/opt/anaconda3/lib/python3.8/site-packages/sklearn/linear_model/_coordinate_descent.py:633: ConvergenceWarning: Objective did not converge. You might want to increase the number of iterations. Duality gap: 1.9646769299218931, tolerance: 0.2393972027972027\n",
      "  model = cd_fast.enet_coordinate_descent_gram(\n",
      "/Users/gaspardvilla/opt/anaconda3/lib/python3.8/site-packages/sklearn/linear_model/_coordinate_descent.py:633: ConvergenceWarning: Objective did not converge. You might want to increase the number of iterations. Duality gap: 1.9206217990840742, tolerance: 0.2393972027972027\n",
      "  model = cd_fast.enet_coordinate_descent_gram(\n",
      "/Users/gaspardvilla/opt/anaconda3/lib/python3.8/site-packages/sklearn/linear_model/_coordinate_descent.py:633: ConvergenceWarning: Objective did not converge. You might want to increase the number of iterations. Duality gap: 1.8497978180261043, tolerance: 0.2393972027972027\n",
      "  model = cd_fast.enet_coordinate_descent_gram(\n",
      "/Users/gaspardvilla/opt/anaconda3/lib/python3.8/site-packages/sklearn/linear_model/_coordinate_descent.py:633: ConvergenceWarning: Objective did not converge. You might want to increase the number of iterations. Duality gap: 2.5297442627122564, tolerance: 0.2393972027972027\n",
      "  model = cd_fast.enet_coordinate_descent_gram(\n",
      "/Users/gaspardvilla/opt/anaconda3/lib/python3.8/site-packages/sklearn/linear_model/_coordinate_descent.py:633: ConvergenceWarning: Objective did not converge. You might want to increase the number of iterations. Duality gap: 4.0194695991283425, tolerance: 0.2393972027972027\n",
      "  model = cd_fast.enet_coordinate_descent_gram(\n",
      "/Users/gaspardvilla/opt/anaconda3/lib/python3.8/site-packages/sklearn/linear_model/_coordinate_descent.py:633: ConvergenceWarning: Objective did not converge. You might want to increase the number of iterations. Duality gap: 4.419878504814392, tolerance: 0.2393972027972027\n",
      "  model = cd_fast.enet_coordinate_descent_gram(\n",
      "/Users/gaspardvilla/opt/anaconda3/lib/python3.8/site-packages/sklearn/linear_model/_coordinate_descent.py:633: ConvergenceWarning: Objective did not converge. You might want to increase the number of iterations. Duality gap: 4.296095490145262, tolerance: 0.2393972027972027\n",
      "  model = cd_fast.enet_coordinate_descent_gram(\n",
      "/Users/gaspardvilla/opt/anaconda3/lib/python3.8/site-packages/sklearn/linear_model/_coordinate_descent.py:633: ConvergenceWarning: Objective did not converge. You might want to increase the number of iterations. Duality gap: 4.3635195032559295, tolerance: 0.2393972027972027\n",
      "  model = cd_fast.enet_coordinate_descent_gram(\n",
      "/Users/gaspardvilla/opt/anaconda3/lib/python3.8/site-packages/sklearn/linear_model/_coordinate_descent.py:633: ConvergenceWarning: Objective did not converge. You might want to increase the number of iterations. Duality gap: 4.0914333331616035, tolerance: 0.2393972027972027\n",
      "  model = cd_fast.enet_coordinate_descent_gram(\n",
      "/Users/gaspardvilla/opt/anaconda3/lib/python3.8/site-packages/sklearn/linear_model/_coordinate_descent.py:633: ConvergenceWarning: Objective did not converge. You might want to increase the number of iterations. Duality gap: 4.668598312054655, tolerance: 0.2393972027972027\n",
      "  model = cd_fast.enet_coordinate_descent_gram(\n",
      "/Users/gaspardvilla/opt/anaconda3/lib/python3.8/site-packages/sklearn/linear_model/_coordinate_descent.py:633: ConvergenceWarning: Objective did not converge. You might want to increase the number of iterations. Duality gap: 5.336613109719565, tolerance: 0.2393972027972027\n",
      "  model = cd_fast.enet_coordinate_descent_gram(\n",
      "/Users/gaspardvilla/opt/anaconda3/lib/python3.8/site-packages/sklearn/linear_model/_coordinate_descent.py:633: ConvergenceWarning: Objective did not converge. You might want to increase the number of iterations. Duality gap: 5.644874480615954, tolerance: 0.2393972027972027\n",
      "  model = cd_fast.enet_coordinate_descent_gram(\n",
      "/Users/gaspardvilla/opt/anaconda3/lib/python3.8/site-packages/sklearn/linear_model/_coordinate_descent.py:633: ConvergenceWarning: Objective did not converge. You might want to increase the number of iterations. Duality gap: 5.587011113826975, tolerance: 0.2393972027972027\n",
      "  model = cd_fast.enet_coordinate_descent_gram(\n",
      "/Users/gaspardvilla/opt/anaconda3/lib/python3.8/site-packages/sklearn/linear_model/_coordinate_descent.py:633: ConvergenceWarning: Objective did not converge. You might want to increase the number of iterations. Duality gap: 5.705837683882237, tolerance: 0.2393972027972027\n",
      "  model = cd_fast.enet_coordinate_descent_gram(\n",
      "/Users/gaspardvilla/opt/anaconda3/lib/python3.8/site-packages/sklearn/linear_model/_coordinate_descent.py:633: ConvergenceWarning: Objective did not converge. You might want to increase the number of iterations. Duality gap: 5.710438779439983, tolerance: 0.2393972027972027\n",
      "  model = cd_fast.enet_coordinate_descent_gram(\n",
      "/Users/gaspardvilla/opt/anaconda3/lib/python3.8/site-packages/sklearn/linear_model/_coordinate_descent.py:633: ConvergenceWarning: Objective did not converge. You might want to increase the number of iterations. Duality gap: 0.3171693499555204, tolerance: 0.23721414141414157\n",
      "  model = cd_fast.enet_coordinate_descent_gram(\n",
      "/Users/gaspardvilla/opt/anaconda3/lib/python3.8/site-packages/sklearn/linear_model/_coordinate_descent.py:633: ConvergenceWarning: Objective did not converge. You might want to increase the number of iterations. Duality gap: 0.26281677259817116, tolerance: 0.23721414141414157\n",
      "  model = cd_fast.enet_coordinate_descent_gram(\n",
      "/Users/gaspardvilla/opt/anaconda3/lib/python3.8/site-packages/sklearn/linear_model/_coordinate_descent.py:633: ConvergenceWarning: Objective did not converge. You might want to increase the number of iterations. Duality gap: 0.26019795381694166, tolerance: 0.23721414141414157\n",
      "  model = cd_fast.enet_coordinate_descent_gram(\n",
      "/Users/gaspardvilla/opt/anaconda3/lib/python3.8/site-packages/sklearn/linear_model/_coordinate_descent.py:633: ConvergenceWarning: Objective did not converge. You might want to increase the number of iterations. Duality gap: 0.2561781075351064, tolerance: 0.23721414141414157\n",
      "  model = cd_fast.enet_coordinate_descent_gram(\n",
      "/Users/gaspardvilla/opt/anaconda3/lib/python3.8/site-packages/sklearn/linear_model/_coordinate_descent.py:633: ConvergenceWarning: Objective did not converge. You might want to increase the number of iterations. Duality gap: 0.2928562431085311, tolerance: 0.23721414141414157\n",
      "  model = cd_fast.enet_coordinate_descent_gram(\n",
      "/Users/gaspardvilla/opt/anaconda3/lib/python3.8/site-packages/sklearn/linear_model/_coordinate_descent.py:633: ConvergenceWarning: Objective did not converge. You might want to increase the number of iterations. Duality gap: 0.8175288178091478, tolerance: 0.23721414141414157\n",
      "  model = cd_fast.enet_coordinate_descent_gram(\n",
      "/Users/gaspardvilla/opt/anaconda3/lib/python3.8/site-packages/sklearn/linear_model/_coordinate_descent.py:633: ConvergenceWarning: Objective did not converge. You might want to increase the number of iterations. Duality gap: 0.902189557570864, tolerance: 0.23721414141414157\n",
      "  model = cd_fast.enet_coordinate_descent_gram(\n",
      "/Users/gaspardvilla/opt/anaconda3/lib/python3.8/site-packages/sklearn/linear_model/_coordinate_descent.py:633: ConvergenceWarning: Objective did not converge. You might want to increase the number of iterations. Duality gap: 0.29824195489595695, tolerance: 0.23721414141414157\n",
      "  model = cd_fast.enet_coordinate_descent_gram(\n",
      "/Users/gaspardvilla/opt/anaconda3/lib/python3.8/site-packages/sklearn/linear_model/_coordinate_descent.py:633: ConvergenceWarning: Objective did not converge. You might want to increase the number of iterations. Duality gap: 0.309679490516487, tolerance: 0.23721414141414157\n",
      "  model = cd_fast.enet_coordinate_descent_gram(\n",
      "/Users/gaspardvilla/opt/anaconda3/lib/python3.8/site-packages/sklearn/linear_model/_coordinate_descent.py:633: ConvergenceWarning: Objective did not converge. You might want to increase the number of iterations. Duality gap: 0.2920285629245427, tolerance: 0.23721414141414157\n",
      "  model = cd_fast.enet_coordinate_descent_gram(\n",
      "/Users/gaspardvilla/opt/anaconda3/lib/python3.8/site-packages/sklearn/linear_model/_coordinate_descent.py:633: ConvergenceWarning: Objective did not converge. You might want to increase the number of iterations. Duality gap: 0.27110054885588397, tolerance: 0.23721414141414157\n",
      "  model = cd_fast.enet_coordinate_descent_gram(\n",
      "/Users/gaspardvilla/opt/anaconda3/lib/python3.8/site-packages/sklearn/linear_model/_coordinate_descent.py:633: ConvergenceWarning: Objective did not converge. You might want to increase the number of iterations. Duality gap: 0.3927798176005126, tolerance: 0.23721414141414157\n",
      "  model = cd_fast.enet_coordinate_descent_gram(\n",
      "/Users/gaspardvilla/opt/anaconda3/lib/python3.8/site-packages/sklearn/linear_model/_coordinate_descent.py:633: ConvergenceWarning: Objective did not converge. You might want to increase the number of iterations. Duality gap: 1.315272456596972, tolerance: 0.23721414141414157\n",
      "  model = cd_fast.enet_coordinate_descent_gram(\n",
      "/Users/gaspardvilla/opt/anaconda3/lib/python3.8/site-packages/sklearn/linear_model/_coordinate_descent.py:633: ConvergenceWarning: Objective did not converge. You might want to increase the number of iterations. Duality gap: 1.2788177211582479, tolerance: 0.23721414141414157\n",
      "  model = cd_fast.enet_coordinate_descent_gram(\n",
      "/Users/gaspardvilla/opt/anaconda3/lib/python3.8/site-packages/sklearn/linear_model/_coordinate_descent.py:633: ConvergenceWarning: Objective did not converge. You might want to increase the number of iterations. Duality gap: 0.6970106303031116, tolerance: 0.23721414141414157\n",
      "  model = cd_fast.enet_coordinate_descent_gram(\n",
      "/Users/gaspardvilla/opt/anaconda3/lib/python3.8/site-packages/sklearn/linear_model/_coordinate_descent.py:633: ConvergenceWarning: Objective did not converge. You might want to increase the number of iterations. Duality gap: 0.8542310725129028, tolerance: 0.23721414141414157\n",
      "  model = cd_fast.enet_coordinate_descent_gram(\n",
      "/Users/gaspardvilla/opt/anaconda3/lib/python3.8/site-packages/sklearn/linear_model/_coordinate_descent.py:633: ConvergenceWarning: Objective did not converge. You might want to increase the number of iterations. Duality gap: 1.5668181676061295, tolerance: 0.23721414141414157\n",
      "  model = cd_fast.enet_coordinate_descent_gram(\n",
      "/Users/gaspardvilla/opt/anaconda3/lib/python3.8/site-packages/sklearn/linear_model/_coordinate_descent.py:633: ConvergenceWarning: Objective did not converge. You might want to increase the number of iterations. Duality gap: 3.234848814998486, tolerance: 0.23721414141414157\n",
      "  model = cd_fast.enet_coordinate_descent_gram(\n",
      "/Users/gaspardvilla/opt/anaconda3/lib/python3.8/site-packages/sklearn/linear_model/_coordinate_descent.py:633: ConvergenceWarning: Objective did not converge. You might want to increase the number of iterations. Duality gap: 4.764800984817612, tolerance: 0.23721414141414157\n",
      "  model = cd_fast.enet_coordinate_descent_gram(\n",
      "/Users/gaspardvilla/opt/anaconda3/lib/python3.8/site-packages/sklearn/linear_model/_coordinate_descent.py:633: ConvergenceWarning: Objective did not converge. You might want to increase the number of iterations. Duality gap: 5.209741759716508, tolerance: 0.23721414141414157\n",
      "  model = cd_fast.enet_coordinate_descent_gram(\n",
      "/Users/gaspardvilla/opt/anaconda3/lib/python3.8/site-packages/sklearn/linear_model/_coordinate_descent.py:633: ConvergenceWarning: Objective did not converge. You might want to increase the number of iterations. Duality gap: 3.2608734930777246, tolerance: 0.23721414141414157\n",
      "  model = cd_fast.enet_coordinate_descent_gram(\n",
      "/Users/gaspardvilla/opt/anaconda3/lib/python3.8/site-packages/sklearn/linear_model/_coordinate_descent.py:633: ConvergenceWarning: Objective did not converge. You might want to increase the number of iterations. Duality gap: 2.739838931368922, tolerance: 0.23721414141414157\n",
      "  model = cd_fast.enet_coordinate_descent_gram(\n",
      "/Users/gaspardvilla/opt/anaconda3/lib/python3.8/site-packages/sklearn/linear_model/_coordinate_descent.py:633: ConvergenceWarning: Objective did not converge. You might want to increase the number of iterations. Duality gap: 3.8637313390636336, tolerance: 0.23721414141414157\n",
      "  model = cd_fast.enet_coordinate_descent_gram(\n",
      "/Users/gaspardvilla/opt/anaconda3/lib/python3.8/site-packages/sklearn/linear_model/_coordinate_descent.py:633: ConvergenceWarning: Objective did not converge. You might want to increase the number of iterations. Duality gap: 7.4860962682023455, tolerance: 0.23721414141414157\n",
      "  model = cd_fast.enet_coordinate_descent_gram(\n",
      "/Users/gaspardvilla/opt/anaconda3/lib/python3.8/site-packages/sklearn/linear_model/_coordinate_descent.py:633: ConvergenceWarning: Objective did not converge. You might want to increase the number of iterations. Duality gap: 11.848975364810144, tolerance: 0.23721414141414157\n",
      "  model = cd_fast.enet_coordinate_descent_gram(\n",
      "/Users/gaspardvilla/opt/anaconda3/lib/python3.8/site-packages/sklearn/linear_model/_coordinate_descent.py:633: ConvergenceWarning: Objective did not converge. You might want to increase the number of iterations. Duality gap: 15.973802813392354, tolerance: 0.23721414141414157\n",
      "  model = cd_fast.enet_coordinate_descent_gram(\n",
      "/Users/gaspardvilla/opt/anaconda3/lib/python3.8/site-packages/sklearn/linear_model/_coordinate_descent.py:633: ConvergenceWarning: Objective did not converge. You might want to increase the number of iterations. Duality gap: 21.902861670163702, tolerance: 0.23721414141414157\n",
      "  model = cd_fast.enet_coordinate_descent_gram(\n",
      "/Users/gaspardvilla/opt/anaconda3/lib/python3.8/site-packages/sklearn/linear_model/_coordinate_descent.py:633: ConvergenceWarning: Objective did not converge. You might want to increase the number of iterations. Duality gap: 28.764793518032548, tolerance: 0.23721414141414157\n",
      "  model = cd_fast.enet_coordinate_descent_gram(\n",
      "/Users/gaspardvilla/opt/anaconda3/lib/python3.8/site-packages/sklearn/linear_model/_coordinate_descent.py:633: ConvergenceWarning: Objective did not converge. You might want to increase the number of iterations. Duality gap: 34.696040206885755, tolerance: 0.23721414141414157\n",
      "  model = cd_fast.enet_coordinate_descent_gram(\n"
     ]
    }
   ],
   "source": [
    "# Feature selection\n",
    "method = 'lassoCV'\n",
    "model_feat_selec = get_model_features_selection(X_train, y_train, method, k_fold, seed = seed)"
   ]
  },
  {
   "cell_type": "code",
   "execution_count": 11,
   "metadata": {},
   "outputs": [],
   "source": [
    "# Select the good features\n",
    "X_train_reduce = feature_transform(model_feat_selec, X_train, method)\n",
    "X_test_reduce = feature_transform(model_feat_selec, X_test, method)"
   ]
  },
  {
   "cell_type": "code",
   "execution_count": 12,
   "metadata": {},
   "outputs": [],
   "source": [
    "# Oversampling\n",
    "X_train_reduce, y_train = smote_data_augmentation(X_train_reduce, y_train, seed = seed)"
   ]
  },
  {
   "cell_type": "code",
   "execution_count": 13,
   "metadata": {},
   "outputs": [],
   "source": [
    "verbose = 2"
   ]
  },
  {
   "cell_type": "markdown",
   "metadata": {},
   "source": [
    "# Cross validation\n",
    "\n",
    "***\n",
    "\n",
    "(Long run)"
   ]
  },
  {
   "cell_type": "code",
   "execution_count": null,
   "metadata": {},
   "outputs": [],
   "source": [
    "# MLR model\n",
    "MLR, param = get_model_MLR(seed = seed)\n",
    "cv_MLR = evaluate_model(MLR, \n",
    "                        param, \n",
    "                        X_train_reduce, \n",
    "                        y_train, \n",
    "                        X_test_reduce, \n",
    "                        y_test, \n",
    "                        verbosity = verbose)\n",
    "\n",
    "# Save best model\n",
    "path = 'Models/trained_model/'+str(classifier)+'_MLR.pkl'\n",
    "save_model(path, cv_MLR)"
   ]
  },
  {
   "cell_type": "code",
   "execution_count": null,
   "metadata": {},
   "outputs": [],
   "source": [
    "X_train_reduce.shape"
   ]
  },
  {
   "cell_type": "code",
   "execution_count": null,
   "metadata": {},
   "outputs": [],
   "source": [
    "# SVM model\n",
    "SVM, param = get_model_SVM(seed = seed)\n",
    "cv_SVM = evaluate_model(SVM, \n",
    "                        param, \n",
    "                        X_train_reduce, \n",
    "                        y_train, X_test_reduce, \n",
    "                        y_test, \n",
    "                        verbosity = verbose)\n",
    "\n",
    "# Save best model\n",
    "path = 'Models/trained_model/'+str(classifier)+'_SVM.pkl'\n",
    "save_model(path, cv_SVM)"
   ]
  },
  {
   "cell_type": "code",
   "execution_count": null,
   "metadata": {},
   "outputs": [],
   "source": [
    "# SVM poly model\n",
    "SVM, param = get_model_SVM(poly = True, seed = seed)\n",
    "cv_SVM_poly = evaluate_model(SVM, \n",
    "                        param, \n",
    "                        X_train_reduce, \n",
    "                        y_train, X_test_reduce, \n",
    "                        y_test, \n",
    "                        verbosity = verbose)\n",
    "\n",
    "# Save best model\n",
    "path = 'Models/trained_model/'+str(classifier)+'_SVM_poly.pkl'\n",
    "save_model(path, cv_SVM_poly)"
   ]
  },
  {
   "cell_type": "code",
   "execution_count": null,
   "metadata": {},
   "outputs": [],
   "source": [
    "# RF model\n",
    "RF, param = get_model_RF(seed = seed)\n",
    "cv_RF = evaluate_model(RF, \n",
    "                        param, \n",
    "                        X_train_reduce, \n",
    "                        y_train, X_test_reduce, \n",
    "                        y_test, \n",
    "                        verbosity = verbose)\n",
    "\n",
    "# Save best model\n",
    "path = 'Models/trained_model/'+str(classifier)+'_RF.pkl'\n",
    "save_model(path, cv_RF)"
   ]
  },
  {
   "cell_type": "code",
   "execution_count": null,
   "metadata": {},
   "outputs": [],
   "source": [
    "# MLP model\n",
    "MLP, param = get_model_MLP(seed = seed)\n",
    "cv_MLP = evaluate_model(MLP, \n",
    "                        param, \n",
    "                        X_train_reduce, \n",
    "                        y_train, X_test_reduce, \n",
    "                        y_test, \n",
    "                        verbosity = verbose)\n",
    "\n",
    "# Save best model\n",
    "path = 'Models/trained_model/'+str(classifier)+'_MLP.pkl'\n",
    "save_model(path, cv_MLP)"
   ]
  },
  {
   "cell_type": "markdown",
   "metadata": {},
   "source": [
    "# RUN\n",
    "\n",
    "***"
   ]
  },
  {
   "cell_type": "code",
   "execution_count": null,
   "metadata": {},
   "outputs": [],
   "source": [
    "train, test = all_models_train_and_test()"
   ]
  },
  {
   "cell_type": "markdown",
   "metadata": {},
   "source": [
    "# Features importance graph\n",
    " \n",
    "***"
   ]
  },
  {
   "cell_type": "code",
   "execution_count": 14,
   "metadata": {},
   "outputs": [
    {
     "name": "stderr",
     "output_type": "stream",
     "text": [
      "/Users/gaspardvilla/opt/anaconda3/lib/python3.8/site-packages/sklearn/utils/deprecation.py:103: FutureWarning: Attribute `coef_` was deprecated in version 0.24 and will be removed in 1.1 (renaming of 0.26). If you observe this warning while using RFE or SelectFromModel, use the importance_getter parameter instead.\n",
      "  warnings.warn(msg, category=FutureWarning)\n",
      "/Users/gaspardvilla/Documents/ml-project-2-ma_bg/plot.py:71: SettingWithCopyWarning: \n",
      "A value is trying to be set on a copy of a slice from a DataFrame\n",
      "\n",
      "See the caveats in the documentation: https://pandas.pydata.org/pandas-docs/stable/user_guide/indexing.html#returning-a-view-versus-a-copy\n",
      "  importance['color'][geometry_list] = geom_color\n",
      "/Users/gaspardvilla/opt/anaconda3/lib/python3.8/site-packages/pandas/core/indexing.py:1732: SettingWithCopyWarning: \n",
      "A value is trying to be set on a copy of a slice from a DataFrame\n",
      "\n",
      "See the caveats in the documentation: https://pandas.pydata.org/pandas-docs/stable/user_guide/indexing.html#returning-a-view-versus-a-copy\n",
      "  self._setitem_single_block(indexer, value, name)\n",
      "/Users/gaspardvilla/Documents/ml-project-2-ma_bg/plot.py:72: SettingWithCopyWarning: \n",
      "A value is trying to be set on a copy of a slice from a DataFrame\n",
      "\n",
      "See the caveats in the documentation: https://pandas.pydata.org/pandas-docs/stable/user_guide/indexing.html#returning-a-view-versus-a-copy\n",
      "  importance['color'][texture_list] = text_color\n"
     ]
    },
    {
     "data": {
      "image/png": "[encoded data removed]",
      "text/plain": [
       "<Figure size 576x396 with 1 Axes>"
      ]
     },
     "metadata": {},
     "output_type": "display_data"
    },
    {
     "name": "stdout",
     "output_type": "stream",
     "text": [
      "Feature ID\n",
      "                      FeatureID\n",
      "local_intens                  0\n",
      "intensity_mean                1\n",
      "ell_in_B                      2\n",
      "sym_mean                      3\n",
      "quality_xhi                   4\n",
      "skel_perim_ratio              5\n",
      "convexity                     6\n",
      "sym_Pmax_id                   7\n",
      "sym_P2                        8\n",
      "sym_std_mean_ratio            9\n",
      "skel_area_ratio              10\n",
      "hist_entropy                 11\n",
      "area_porous                  12\n",
      "frac_dim_theoretical         13\n",
      "area                         15\n"
     ]
    }
   ],
   "source": [
    "model = best_model(classifier+'_MLR')\n",
    "model.fit(X_train_reduce, y_train)\n",
    "title = 'Feature importance on hydrometeor classification with method \\n MLR depending if there are geometric or textural'\n",
    "plot_feature_importance(model, classifier+'_MLR.png', title)"
   ]
  },
  {
   "cell_type": "markdown",
   "metadata": {},
   "source": [
    "# Confrontation matrix\n",
    "\n",
    "***"
   ]
  },
  {
   "cell_type": "code",
   "execution_count": 15,
   "metadata": {},
   "outputs": [
    {
     "data": {
      "image/png": "[encoded data removed]",
      "text/plain": [
       "<Figure size 576x396 with 2 Axes>"
      ]
     },
     "metadata": {},
     "output_type": "display_data"
    }
   ],
   "source": [
    "model = best_model(classifier+'_MLR')\n",
    "model.fit(X_train_reduce, y_train)\n",
    "title = 'Confusion matrix on the test set for hydrometeor classification'\n",
    "plot_conf_matrix(classifier, model, X_test_reduce, y_test, classifier+'_MLR_conf.png', title)"
   ]
  },
  {
   "cell_type": "code",
   "execution_count": null,
   "metadata": {},
   "outputs": [],
   "source": []
  }
 ],
 "metadata": {
  "kernelspec": {
   "display_name": "Python 3",
   "language": "python",
   "name": "python3"
  },
  "language_info": {
   "codemirror_mode": {
    "name": "ipython",
    "version": 3
   },
   "file_extension": ".py",
   "mimetype": "text/x-python",
   "name": "python",
   "nbconvert_exporter": "python",
   "pygments_lexer": "ipython3",
   "version": "3.8.12"
  },
  "pycharm": {
   "stem_cell": {
    "cell_type": "raw",
    "metadata": {
     "collapsed": false
    },
    "source": []
   }
  }
 },
 "nbformat": 4,
 "nbformat_minor": 1
}
